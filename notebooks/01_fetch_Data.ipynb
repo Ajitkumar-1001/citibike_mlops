{
 "cells": [
  {
   "cell_type": "code",
   "execution_count": 31,
   "metadata": {},
   "outputs": [],
   "source": [
    "import requests\n",
    "from pathlib import Path\n",
    "import zipfile\n",
    "\n",
    "def fetch_data(year: int, month: int) -> str:\n",
    "    # Build the URL\n",
    "    url = f\"https://s3.amazonaws.com/tripdata/JC-{year}{month:02}-citibike-tripdata.csv.zip\"\n",
    "    \n",
    "    # Define paths\n",
    "    raw_dir = Path(\"..\") / \"data\" / \"raw\"\n",
    "    zip_path = raw_dir / f\"JC_rides_{year}_{month:02}.zip\"\n",
    "    output_csv_path = raw_dir / f\"rides_{year}_{month:02}.csv\"\n",
    "\n",
    "    # Create directories if needed\n",
    "    raw_dir.mkdir(parents=True, exist_ok=True)\n",
    "\n",
    "    # Download the zip file\n",
    "    response = requests.get(url)\n",
    "    if response.status_code != 200:\n",
    "        raise Exception(f\"{url} is not available (Status Code: {response.status_code})\")\n",
    "    \n",
    "    # Save the zip file\n",
    "    zip_path.write_bytes(response.content)\n",
    "    print(f\"Downloaded ZIP to: {zip_path}\")\n",
    "\n",
    "    # Extract CSV and rename\n",
    "    with zipfile.ZipFile(zip_path, 'r') as zip_ref:\n",
    "        csv_name = zip_ref.namelist()[0]  # Assuming single CSV file\n",
    "        zip_ref.extract(csv_name, raw_dir)\n",
    "        extracted_csv_path = raw_dir / csv_name\n",
    "        extracted_csv_path.rename(output_csv_path)\n",
    "        print(f\"Extracted and saved as: {output_csv_path}\")\n",
    "\n",
    "    return str(output_csv_path)\n"
   ]
  },
  {
   "cell_type": "code",
   "execution_count": 32,
   "metadata": {},
   "outputs": [
    {
     "name": "stdout",
     "output_type": "stream",
     "text": [
      "Downloaded ZIP to: ../data/raw/JC_rides_2024_12.zip\n",
      "Extracted and saved as: ../data/raw/rides_2024_12.csv\n"
     ]
    },
    {
     "data": {
      "text/plain": [
       "'../data/raw/rides_2024_12.csv'"
      ]
     },
     "execution_count": 32,
     "metadata": {},
     "output_type": "execute_result"
    }
   ],
   "source": [
    "fetch_data(2024,12)"
   ]
  },
  {
   "cell_type": "code",
   "execution_count": null,
   "metadata": {},
   "outputs": [],
   "source": []
  }
 ],
 "metadata": {
  "kernelspec": {
   "display_name": "Final_proj_Aml",
   "language": "python",
   "name": "python3"
  },
  "language_info": {
   "codemirror_mode": {
    "name": "ipython",
    "version": 3
   },
   "file_extension": ".py",
   "mimetype": "text/x-python",
   "name": "python",
   "nbconvert_exporter": "python",
   "pygments_lexer": "ipython3",
   "version": "3.9.5"
  }
 },
 "nbformat": 4,
 "nbformat_minor": 2
}
